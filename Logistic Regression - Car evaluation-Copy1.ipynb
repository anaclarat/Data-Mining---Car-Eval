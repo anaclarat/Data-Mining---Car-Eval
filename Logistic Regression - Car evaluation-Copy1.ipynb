{
 "cells": [
  {
   "cell_type": "markdown",
   "id": "b6222fb6",
   "metadata": {},
   "source": [
    "# Final Project for Data Mining Course, Data Science and Application \n",
    "## Metro College of Technology\n",
    "\n",
    "### September, 2021\n",
    "\n",
    "### Ana Clara Tupinambá Freitas, oriented by Professor Gitimoni Saikia"
   ]
  },
  {
   "cell_type": "markdown",
   "id": "c9cfdf7e",
   "metadata": {},
   "source": [
    "# Car evaluation\n",
    "\n",
    "## Introduction\n",
    "\n",
    "Can we predict the acceptability of a car? \n",
    "\n",
    "The features for this study are:\n",
    "\n",
    "    *Class Values:\n",
    "\n",
    "        - unacceptable, \n",
    "        - Acceptable\n",
    "        - Good\n",
    "        - Very good\n",
    "    *Buying: \n",
    "        - Very high\n",
    "        - High\n",
    "        - Medium\n",
    "        - Low\n",
    "    *Maintenance:\n",
    "        - Very high\n",
    "        - High\n",
    "        - Medium\n",
    "        - Low\n",
    "    *Doors:\n",
    "        - 2\n",
    "        - 3 \n",
    "        - 4 \n",
    "        - 5more.\n",
    "    *Persons: \n",
    "         - 2\n",
    "         - 4\n",
    "         - more\n",
    "    *Lug_boot: \n",
    "         - small\n",
    "         - medium\n",
    "         - big\n",
    "    *Safety:\n",
    "         - low\n",
    "         - medium\n",
    "         - high\n",
    "\n",
    "The **target** feature in this study will be: **Class**.\n",
    "\n",
    "Data Source: https://archive.ics.uci.edu/ml/datasets/Car+Evaluation, downloaded at Sep 9th,2021"
   ]
  },
  {
   "cell_type": "markdown",
   "id": "e58ae4a7",
   "metadata": {},
   "source": [
    "# Importing Packages"
   ]
  },
  {
   "cell_type": "code",
   "execution_count": 1,
   "id": "7daaf609",
   "metadata": {},
   "outputs": [],
   "source": [
    "import os\n",
    "import pandas as pd\n",
    "import numpy as np\n",
    "import datetime\n",
    "\n",
    "import matplotlib.pyplot as plt\n",
    "import seaborn as sns\n",
    "from statsmodels.graphics.gofplots import qqplot\n",
    "\n",
    "from scipy.stats import kstest\n",
    "import researchpy as rp\n",
    "from scipy.stats import mannwhitneyu\n",
    "from scipy.stats import levene\n",
    "from scipy.stats import kruskal\n",
    "from scipy.stats.contingency import chi2_contingency\n",
    "\n",
    "\n",
    "from sklearn.model_selection import train_test_split\n",
    "from sklearn.preprocessing import StandardScaler\n",
    "\n",
    "# from statsmodels.stats.outliers_influence import variance_inflation_factor\n",
    "from sklearn.model_selection import cross_val_score\n",
    "from sklearn.linear_model import LogisticRegression\n",
    "\n",
    "from sklearn.metrics import confusion_matrix, classification_report,accuracy_score\n",
    "from sklearn.utils import shuffle\n",
    "\n",
    "import warnings\n"
   ]
  },
  {
   "cell_type": "markdown",
   "id": "46f3496d",
   "metadata": {},
   "source": [
    "# User Defined Functions\n",
    "\n",
    "## Univariate Categorical:"
   ]
  },
  {
   "cell_type": "code",
   "execution_count": 2,
   "id": "6d22a086",
   "metadata": {},
   "outputs": [],
   "source": [
    "def uni_categorical(df,size):\n",
    "    '''This function returns summarization and visual for univariate analysis of categorical features of a dataset'''\n",
    "    print('############### Univariate analysis - Categorical ###############')\n",
    "    df = df.select_dtypes(exclude=np.number) #extracting only non-numerical features\n",
    "    for i in df.columns:\n",
    "     #   if type(df.loc[0, i]) == str: #checking type of features\n",
    "# Summarization\n",
    "            d1 = df[i].value_counts()\n",
    "            d2 = round(df[i].value_counts(normalize=True)*100, 2)\n",
    "            d3 = pd.concat([d1, d2], axis=1)\n",
    "            d3.columns = ['Count', 'Percentage']\n",
    "            print('\\nThis is univariate analysis for', \"'\", i, \"'\", '\\n', d3)\n",
    "\n",
    " # Visualization\n",
    "            d1 = pd.DataFrame(d1).T\n",
    "            d1 = pd.melt(d1,var_name=str(i),value_vars=d1) \n",
    "            fig, ax = plt.subplots()\n",
    "            if size == 'L':\n",
    "                fig.set_size_inches(12, 10)\n",
    "            else:\n",
    "                fig.set_size_inches(5, 5)\n",
    "            sns.set_context(\"paper\", font_scale=1.5)\n",
    "            plot1=sns.barplot(y=d1['value'],x=d1[i], data=d1)\n",
    "            for p, label in zip(plot1.patches, d1['value']):\n",
    "                ax.annotate(label, (p.get_x()+0.3, p.get_height()+2))\n",
    "            plt.xticks(rotation=45, ha='right')\n",
    "            ax.set_title('Univariate plot')\n",
    "            plt.show()\n",
    "    print('\\n\\n')"
   ]
  },
  {
   "cell_type": "markdown",
   "id": "8f2d42c2",
   "metadata": {},
   "source": [
    "## Univariate Numerical:"
   ]
  },
  {
   "cell_type": "code",
   "execution_count": 3,
   "id": "56bd82b7",
   "metadata": {},
   "outputs": [],
   "source": [
    "def uni_numerical(df):\n",
    "    '''This function returns summarization and visual for univariate analysis of numerical features of a dataset'''\n",
    "    \n",
    "# Summarization\n",
    "    print('############### Univariate analysis - Numerical ###############')\n",
    "    df.describe()\n",
    "\n",
    "    Summary = dict(df.describe())\n",
    "    for i in Summary:\n",
    "        Summary[i]['count'] = df[i].count()\n",
    "        Summary[i]['variance'] = df[i].var()\n",
    "        Summary[i]['IQR'] = Summary[i]['75%'] - Summary[i]['25%']\n",
    "        Summary[i]['range'] = Summary[i]['max'] - Summary[i]['min']\n",
    "        Summary[i]['skewness'] = df[i].skew()\n",
    "        Summary[i]['kurtosis'] = df[i].kurtosis()\n",
    "        Summary[i]['mode'] = df[i].mode() #axis='columns'\n",
    "#    print(Summary)\n",
    "        print('\\nThis is univariate analysis for',\"'\", i, \"'\", '\\n', Summary[i])\n",
    "# Visualization\n",
    "        # Histogram and Boxplot\n",
    "        sns.set_palette(\"dark\") # colorblind   pastel\n",
    "        sns.set(style=\"white\") #whitegrid ticks\n",
    "        sns.set_context(\"paper\", font_scale=1.5)\n",
    "        f, (ax_box, ax_hist) = plt.subplots(2, sharex=True, gridspec_kw={\"height_ratios\": (.12, .88)})\n",
    "        f.set_size_inches(12, 8)\n",
    "        sns.distplot(a=df[i], hist=True, kde=True, rug=True, ax=ax_hist)\n",
    "        sns.boxplot(x=df[i], ax=ax_box)\n",
    "        ax_box.set_title('Univariate plot')\n",
    "        ax_box.set(xlabel='')\n",
    "        plt.show()\n",
    "# normality test\n",
    "#        stat, p_normal = shapiro(df[i])\n",
    "        stat, p_normal = kstest(df[i],'norm')    \n",
    "        print('Kolmogorov\\'s Statistics=%.3f, p=%.3f' % (stat, p_normal))\n",
    "# interpretation\n",
    "        alpha = 0.05\n",
    "        if p_normal > alpha:\n",
    "            print('Normality\\'s test result: Sample looks Gaussian (fail to reject H0)')\n",
    "        else:\n",
    "            print('Normality\\'s test result: Sample does not look Gaussian (reject H0)')"
   ]
  },
  {
   "cell_type": "markdown",
   "id": "5dce8fd0",
   "metadata": {},
   "source": [
    "## Bivariate Numerical target x Numerical features:"
   ]
  },
  {
   "cell_type": "code",
   "execution_count": 4,
   "id": "ceb5d39f",
   "metadata": {},
   "outputs": [],
   "source": [
    "def bi_numerical_num(df, var_target):\n",
    "    '''This function returns summarization, visual,and test of independency for bivariate analysis of numerical x numerical features. FIgFigure size: 'S' or 'L' '''\n",
    "    \n",
    "    print('############### Bivariate analysis - Numerical x Numerical ###############')\n",
    "# Printing Assumptions:\n",
    "    print('\\nCorrelation (how strong the correlation is):\\n Null hypothesis: there’s no association between variables.\\n\\n Assumptions:\\n \\t1.Normal distribution for both variables for pearson;\\n  \\t2.homoscedasticity assumes that data is equally distributed about the regression line.\\n \\t3.Linear? \\n \\t\\tLinear: pearson\\n \\t\\tMonotonically related (not normal) use the following methods: spearman kendall hoeffding \\n Generical interpretation: \\n \\t |0.7| < p -> strong correlation \\n \\t |0.7| > p > |0.5| -> moderately correlated \\n \\t |0.4| > p -> weakly correlated or no correlation ')\n",
    "\n",
    "# Verifying datatypes extract only numerics\n",
    "    df = df.select_dtypes(include=np.number)\n",
    "#numerics = ['int16', 'int32', 'int64', 'float16', 'float32', 'float64']\n",
    "# Visualization\n",
    "    sns.set_palette(\"dark\") # colorblind   pastel\n",
    "    sns.set(style=\"white\",font_scale=1) #whitegrid ticks\n",
    "    \n",
    "    mask = np.zeros_like(df.corr())\n",
    "    mask[np.triu_indices_from(mask)] = True\n",
    "    fig, ax = plt.subplots(figsize=(8,8)) \n",
    "    sns.heatmap(round(df.corr(method='pearson'),2),annot=True, annot_kws={\"fontsize\":12},square=True, linewidths=0.01,mask=mask,ax=ax)\n",
    "    plt.title('Correlation Heatmap - Pearson')   \n",
    "    plt.show()\n",
    "    \n",
    "   # mask = np.zeros_like(df.corr())\n",
    "   # mask[np.triu_indices_from(mask)] = True\n",
    "    #fig, ax = plt.subplots(figsize=(8,8))\n",
    "    #sns.heatmap(round(df.corr(method='spearman'),2),annot=True, annot_kws={\"fontsize\":12},square=True, linewidths=0.01,mask=mask,ax=ax)\n",
    "    #plt.title('Correlation Heatmap - Spearman') \n",
    "    #plt.show()"
   ]
  },
  {
   "cell_type": "markdown",
   "id": "3cd93c1f",
   "metadata": {},
   "source": [
    "## Bivariate Numerical target x Categorical features:"
   ]
  },
  {
   "cell_type": "code",
   "execution_count": 5,
   "id": "378491fd",
   "metadata": {},
   "outputs": [],
   "source": [
    "\n",
    "def bi_categorical_cont(df,var_target,size):                \n",
    "    '''This function returns summarization, visual, and test of independency for bivariate analysis of continuous target x categorical  features,taking a continuous variable as the target.  '''\n",
    "    \n",
    "    print('############### Bivariate analysis - Categorical x Numerical ###############')\n",
    "    print('\\n*If Categorical has 2 levels: Mann-Whitney U test, if more: One-way ANOVA/Kruskal H test')\n",
    "\n",
    "# Defining alpha:\n",
    "    alpha = 0.05\n",
    "# Verifying datatypes extract only numerics\n",
    "    df_num = df.select_dtypes(include=np.number) \n",
    "    \n",
    "# If target is numeric:         \n",
    "    if var_target in df_num.columns:\n",
    "        df_cat = df.select_dtypes(exclude=np.number)\n",
    "        for i in df_cat.columns:\n",
    "            if i != var_target:\n",
    "                vis = pd.crosstab(df[var_target],df[i], margins = False)\n",
    "                tab = rp.summary_cont(df[var_target].groupby(df[i]),decimals=3)#conf=0.95\n",
    "#                print(tab)\n",
    "                result = df.groupby(i)[var_target].apply(list) \n",
    "#                print('Result:',result)\n",
    "# Printing Assumptions:\n",
    "                if len(result.index) == 2:\n",
    "                    print('\\nThis is Mann-Whitney U test for' , var_target, 'and',i )\n",
    "                    print('\\nMann-Whitney U test:\\n Null hypothesis: The distribution of scores for the two groups are equal.\\n Assumptions:\\n 1.Dependent variable that is measured at the continuous or ordinal level.\\n 2.Groups are independent of one another. \\n 3.What\\'s the shape of each group distribution.\\n\\t a) Similar shapes: \\n\\t\\t Alternative hypothesis: the medians of the two groups are not equal.\\n\\t b) Different shapes:\\n\\t\\t Alternative hypothesis: the distribution of scores for the two groups are not equal.') \n",
    "                    print('\\nSummary:')\n",
    "                    print(tab)\n",
    "# Visualization\n",
    "                    sns.set_palette(\"dark\") # colorblind   pastel\n",
    "                    sns.set(style=\"white\") # whitegrid ticks\n",
    "                    fig, ax = plt.subplots()\n",
    "                    fig.set_size_inches(12, 4)\n",
    "                    sns.boxplot(x=df[i],y=df[var_target], data=df)  \n",
    "                    sns.stripplot(x=df[i],y=df[var_target], data=df,\n",
    "              size=4, color=\".3\", linewidth=0)\n",
    "                    plt.xticks(rotation=45, ha='right')\n",
    "                    ax.set_title('Bivariate plot: ' + var_target + ' and ' + i)\n",
    "                    plt.show()\n",
    "                    l = pd.melt(vis,var_name=str(i),value_vars=vis)\n",
    "                    l = pd.DataFrame(l)\n",
    "                \n",
    "                else:\n",
    "# ANOVA\n",
    "# Printing Assumptions: \n",
    "                    print('\\nThis is ANOVA/Kruskal for' , var_target, 'and',i,'\\n' )\n",
    "                    print('One-way ANOVA Assumptions\\n In order to run a one-way ANOVA the following assumptions must be met:\\n 1.The response of interest is continuous and normally distributed for each treatment group.\\n \\tCLT :\\n \\t\\tIf looks normal each group must have more than 30 observations – no need for Normality’s test;\\n \\t\\tIf moderately skewed(|0.5| < skewness < |1.0|), each group must have more than 100 observations – no need for Normality’s test;\\n\\t*If not normal, proceed to Kruskal test.\\n 2.Treatment groups are independent of one another. \\n 3.There are no major outliers.\\n 4.A check for unequal variances will help determine which version of a one-way ANOVA is most appropriate (Levene’s test, Null hypothesis: variances are equal between groups):\\n \\tA .If variances are equal, then the assumptions of a standard one-way ANOVA are met.\\n \\tB. If variances are unequal, then a Kruskal’s test is appropriate.\\n\\n*Kruskal\\'s Null hypothesis: H0: the group populations have equal dominance; i.e. when one element is drawn at random from each group population, the largest (or smallest, or second smallest, etc.) element is equally likely to come from any one of the group populations or H0: the group population medians are equal(if groups distributions have the same shape) ')\n",
    "                    print('\\nSummary:')\n",
    "                    print(tab)\n",
    "# Visualization\n",
    "                    sns.set_palette(\"dark\") # colorblind   pastel\n",
    "                    sns.set(style=\"white\") # whitegrid ticks\n",
    "                    fig, ax = plt.subplots()\n",
    "                    if size == 'L':\n",
    "                        fig.set_size_inches(50, 4)\n",
    "                    else:\n",
    "                        fig.set_size_inches(12, 4)\n",
    "                    sns.set_context(\"paper\", font_scale=1.2)\n",
    "                    sns.boxplot(x=df[i],y=df[var_target], data=df)  \n",
    "                    sns.stripplot(x=df[i],y=df[var_target], data=df,\n",
    "              size=4, color=\".3\", linewidth=0)\n",
    "                    plt.xticks(rotation=45, ha='right',fontsize=12)\n",
    "                    ax.set_title('Bivariate plot: ' + var_target + ' and ' + i)\n",
    "                    plt.show()\n",
    "                    l = pd.melt(vis,var_name=str(i),value_vars=vis)\n",
    "                    l = pd.DataFrame(l)\n",
    "                    \n",
    "            if len(result.index) == 2:\n",
    "#T-test                             \n",
    "                stat_l, p_lev = levene(*result)\n",
    "                print('\\nLevene\\'s Statistics=%.3f, p=%.3f' % (stat_l, p_lev))\n",
    "                if p_lev  > alpha:#Equal varinaces\n",
    "                    stat_u, p_u = mannwhitneyu(*result)\n",
    "                    print('Levene\\'s test result: Equal variances (fail to reject H0)')\n",
    "                    print('\\nMann-Whitney U \\'s Null hypothesis: The distribution of scores for the two groups are equal.')\n",
    "                    print('\\nMann-Whitney U \\'s Statistics (equal variances)=%.3f, p=%.3f' % (stat_u, p_u))\n",
    "# interpretation\n",
    "                    if p_u > alpha: \n",
    "                        print('Mann-Whitney U \\'s test result: There are no differences in medians, samples medians are equal. (fail to reject H0)')\n",
    "                    else:\n",
    "                        print('Mann-Whitney U \\'s test result: The medians of the two groups are not equal. (reject H0)')  \n",
    "                        \n",
    "                else:#Unequal variances\n",
    "                    stat_u, p_u = mannwhitneyu(*result)\n",
    "                    print('Levene\\'s test result: Unequal variances (reject H0)')\n",
    "                    print('\\nMann-Whitney U \\'s Statistics (unequal variances)=%.3f, p=%.3f' % (stat_u, p_u))\n",
    "# interpretation\n",
    "                    if p_u > alpha: \n",
    "                        print('\\nMann-Whitney U \\'s Null hypothesis: The distribution of scores for the two groups are equal.')\n",
    "                        print('Mann-Whitney U \\'s test result: The distribution of scores for the two groups are equal. (fail to reject H0)')\n",
    "                    else:\n",
    "                        print('\\nMann-Whitney U \\'s Null hypothesis: The distribution of scores for the two groups are equal.')\n",
    "                        print('Mann-Whitney U \\'s test result: The distribution of scores for the two groups are not equal. (reject H0)')   \n",
    "                    \n",
    "  \n",
    "# ANOVA\n",
    "            else:    \n",
    "                stat_l, p_lev = levene(*result)\n",
    "                print('\\nLevene\\'s Statistics=%.3f, p=%.3f' % (stat_l, p_lev))\n",
    "                p_one = np.nan\n",
    "                if p_lev  > alpha: #Equal variances\n",
    "                    stat_one, p_one = f_oneway(*result)\n",
    "                    stat_k, p_h =  kruskal(*result)\n",
    "                    print('Levene\\'s test result: equal variances (reject H0)')\n",
    "                    print('\\nKruskal\\'s Statistics(equal variances)=%.3f, p=%.3f' % (stat_k, p_h))\n",
    "                    print('\\nANOVA\\'s Statistics(equal variances)=%.3f, p=%.3f' % (stat_one, p_one))\n",
    "                    if p_one > alpha: \n",
    "                        print('\\nANOVA\\'s Null hypothesis: There are  differences in means')\n",
    "                        print('ANOVA\\'s test result: There are no differences in means, samples are equal. (fail to reject H0)')\n",
    "                    else:\n",
    "                        print('\\nANOVA\\'s Null hypothesis: There are  differences in means')\n",
    "                        print('ANOVA\\'s test result: There are  differences in means (reject H0)')   \n",
    "                else: # Unequal variances\n",
    "                    stat_k, p_h  = kruskal(*result)\n",
    "                    print('Levene\\'s test result: Unequal variances (reject H0)')\n",
    "                    print('\\nKruskal\\'s Statistics(unequal variances)=%.3f, p=%.3f' % (stat_k, p_h))\n",
    "                \n",
    "                if p_h > alpha: \n",
    "                    print('\\nKruskal\\'s Null hypothesis: All sample distributions are equal.')\n",
    "                    print('Kruskal\\'s test result: All sample distributions are equal. (fail to reject H0)')\n",
    "                else:\n",
    "                    print('\\nKruskal\\'s Null hypothesis: All sample distributions are equal.')\n",
    "                    print('Kruskal\\'s test result: One or more sample distributions are not equal. (reject H0)')   \n",
    "\n",
    "    print('\\n\\n')"
   ]
  },
  {
   "cell_type": "markdown",
   "id": "d9e248a5",
   "metadata": {},
   "source": [
    "## Bivariate Numerical target x Categorical features:"
   ]
  },
  {
   "cell_type": "code",
   "execution_count": 6,
   "id": "e2f3f5ed",
   "metadata": {},
   "outputs": [],
   "source": [
    "def bi_categorical_cat(df_var_pred, df_var_target):\n",
    "    '''This function returns summarization, visual,and test of independency for bivariate analysis of categorical x categorical features. df[var_pred], df[var_target]'''\n",
    "    \n",
    "    contigency_table = pd.crosstab(df_var_pred,df_var_target)\n",
    "    print('This is contingency table for:\\n\\n',contigency_table,'\\n')\n",
    "\n",
    "    contigency_table.plot(kind='bar',figsize=(10,5))\n",
    "#     plt.legend(loc=5)\n",
    "    plt.show()\n",
    "    alpha = 0.05\n",
    "    chi_2, p_val, dof, exp_val = chi2_contingency(contigency_table)\n",
    "    print(\"Chi-sqare's results:\\n\")\n",
    "    if p_val > alpha:\n",
    "        print('DOF: ',dof,'\\np-value= ',p_val,\"\\n\\n Fail to reject Null Hypothesis. There's no correlation between variables.\")\n",
    "    else:\n",
    "        print('DOF: ',dof,'\\np-value= ',p_val,\"\\n\\n Reject Null Hypothesis. There's some correlation between variables.\")   "
   ]
  },
  {
   "cell_type": "code",
   "execution_count": 7,
   "id": "72e50f0c",
   "metadata": {},
   "outputs": [],
   "source": [
    "## Calculating Adjusted R^2 value"
   ]
  },
  {
   "cell_type": "code",
   "execution_count": 8,
   "id": "31b6cc94",
   "metadata": {},
   "outputs": [],
   "source": [
    "def adjR2(X,R2):\n",
    "    '''This function returns the R^2 value given X and R^2 value'''\n",
    "    n = X.shape[0]\n",
    "    k = X.shape[1]\n",
    "    return 1 - ((n-1)/(n-k-1))*(1-R2)"
   ]
  },
  {
   "cell_type": "markdown",
   "id": "d3b7e40d",
   "metadata": {},
   "source": [
    "## Plot of the model coefficients with 95% interval"
   ]
  },
  {
   "cell_type": "code",
   "execution_count": 9,
   "id": "6ad9fbd3",
   "metadata": {},
   "outputs": [],
   "source": [
    "# Define function to output plot of the model coefficients with 95% interval\n",
    "\n",
    "def coefplot(results):\n",
    "    '''\n",
    "    Takes in results of OLS model and returns a plot of \n",
    "    the coefficients with 95% confidence intervals.\n",
    "    \n",
    "    Removes intercept, so if uncentered will return error.\n",
    "    '''\n",
    "    # Create dataframe of results summary \n",
    "    coef_df = pd.DataFrame(results.summary().tables[1].data)\n",
    "    \n",
    "    # Add column names\n",
    "    coef_df.columns = coef_df.iloc[0]\n",
    "\n",
    "    # Drop the extra row with column labels\n",
    "    coef_df=coef_df.drop(0)\n",
    "\n",
    "    # Set index to variable names \n",
    "    coef_df = coef_df.set_index(coef_df.columns[0])\n",
    "\n",
    "    # Change datatype from object to float\n",
    "    coef_df = coef_df.astype(float)\n",
    "\n",
    "    # Get errors; (coef - lower bound of conf interval)\n",
    "    errors = coef_df['coef'] - coef_df['[0.025']\n",
    "    \n",
    "    # Append errors column to dataframe\n",
    "    coef_df['errors'] = errors\n",
    "\n",
    "    # Drop the constant for plotting\n",
    "    coef_df = coef_df.drop(['const'])\n",
    "\n",
    "    # Sort values by coef ascending\n",
    "    coef_df = coef_df.sort_values(by=['coef'])\n",
    "\n",
    "    ### Plot Coefficients ###\n",
    "\n",
    "    # x-labels\n",
    "    variables = list(coef_df.index.values)\n",
    "    \n",
    "    # Add variables column to dataframe\n",
    "    coef_df['variables'] = variables\n",
    "    \n",
    "    # Set sns plot style back to 'poster'\n",
    "    # This will make bars wide on plot\n",
    "    sns.set_context(\"poster\")\n",
    "\n",
    "    # Define figure, axes, and plot\n",
    "    fig, ax = plt.subplots(figsize=(35, 3))\n",
    "    \n",
    "    # Error bars for 95% confidence interval\n",
    "    # Can increase capsize to add whiskers\n",
    "    coef_df.plot(x='variables', y='coef', kind='bar',\n",
    "                 ax=ax, color='none', fontsize=22, \n",
    "                 ecolor='steelblue',capsize=0,\n",
    "                 yerr='errors', legend=False)\n",
    "    \n",
    "    # Set title & labels\n",
    "    plt.title('Coefficients of Features w/ 95% Confidence Intervals',fontsize=30)\n",
    "    ax.set_ylabel('Coefficients',fontsize=22)\n",
    "    ax.set_xlabel('',fontsize=22)\n",
    "    \n",
    "    # Coefficients\n",
    "    ax.scatter(x=pd.np.arange(coef_df.shape[0]), \n",
    "               marker='o', s=80, \n",
    "               y=coef_df['coef'], color='steelblue')\n",
    "    \n",
    "    # Line to define zero on the y-axis\n",
    "    ax.axhline(y=0, linestyle='--', color='red', linewidth=1)\n",
    "    \n",
    "    return plt.show()"
   ]
  },
  {
   "cell_type": "markdown",
   "id": "73f9af44",
   "metadata": {},
   "source": [
    "## Add Seasons"
   ]
  },
  {
   "cell_type": "code",
   "execution_count": 10,
   "id": "66a1236b",
   "metadata": {},
   "outputs": [],
   "source": [
    "def find_season(month):\n",
    "    season_month_north = {\n",
    "        12:'Winter', 1:'Winter', 2:'Winter',\n",
    "        3:'Spring', 4:'Spring', 5:'Spring',\n",
    "        6:'Summer', 7:'Summer', 8:'Summer',\n",
    "        9:'Autumn', 10:'Autumn', 11:'Autumn'}\n",
    "    return season_month_north.get(month)"
   ]
  },
  {
   "cell_type": "markdown",
   "id": "7f033f00",
   "metadata": {},
   "source": [
    "## Checking Missing values"
   ]
  },
  {
   "cell_type": "code",
   "execution_count": 11,
   "id": "a7877f8d",
   "metadata": {},
   "outputs": [],
   "source": [
    "def chck_miss(df):\n",
    "\n",
    "    Total = df.isnull().count().sort_values(ascending=True)        \n",
    "    Missing = df.isnull().sum().sort_values(ascending=True)   \n",
    "\n",
    "    Percentage_Miss = round((Missing/Total)*100,2)\n",
    "\n",
    "    Summary = pd.concat([Total,Missing, Percentage_Miss],axis=1,keys=['Total','# Missing','% Missing'],sort=True)\n",
    "          \n",
    "    print('Are there any missing value?')                    \n",
    "    print(Summary)         \n",
    "\n",
    "    del Total, Missing, Percentage_Miss, Summary "
   ]
  },
  {
   "cell_type": "markdown",
   "id": "d59823b7",
   "metadata": {},
   "source": [
    "#### Setting warnings OFF"
   ]
  },
  {
   "cell_type": "code",
   "execution_count": 12,
   "id": "acd523f1",
   "metadata": {},
   "outputs": [],
   "source": [
    "#warnings.filterwarnings('ignore')"
   ]
  },
  {
   "cell_type": "markdown",
   "id": "73fc1143",
   "metadata": {},
   "source": [
    "# Loading Data Frame"
   ]
  },
  {
   "cell_type": "code",
   "execution_count": 13,
   "id": "5735261e",
   "metadata": {},
   "outputs": [],
   "source": [
    "# Changing Directory\n",
    "os.chdir(r'D:\\1_Metro College\\Courses\\Data Mining\\FInal_Project_Log_Reg')\n",
    "\n",
    "df = pd.read_csv('Data\\car.data',header=None)\n",
    "\n",
    "df.rename(columns={0:'buying',\n",
    "                    1:'maint',\n",
    "                    2:'doors',\n",
    "                    3:'persons',\n",
    "                    4:'lug_boot',\n",
    "                    5:'safety',\n",
    "                    6:'class'},inplace=True)"
   ]
  },
  {
   "cell_type": "markdown",
   "id": "b93eec5b",
   "metadata": {},
   "source": [
    "## First look at the dataset:\n",
    "We see that there are 7 features and 1728 observations in the dataset in it's downloaded form:"
   ]
  },
  {
   "cell_type": "code",
   "execution_count": 14,
   "id": "1f87746c",
   "metadata": {},
   "outputs": [
    {
     "data": {
      "text/plain": [
       "(1728, 7)"
      ]
     },
     "execution_count": 14,
     "metadata": {},
     "output_type": "execute_result"
    }
   ],
   "source": [
    "df.shape"
   ]
  },
  {
   "cell_type": "markdown",
   "id": "a1b0ac16",
   "metadata": {},
   "source": [
    "First and Last observations:"
   ]
  },
  {
   "cell_type": "code",
   "execution_count": 15,
   "id": "270124d9",
   "metadata": {},
   "outputs": [
    {
     "data": {
      "text/html": [
       "<div>\n",
       "<style scoped>\n",
       "    .dataframe tbody tr th:only-of-type {\n",
       "        vertical-align: middle;\n",
       "    }\n",
       "\n",
       "    .dataframe tbody tr th {\n",
       "        vertical-align: top;\n",
       "    }\n",
       "\n",
       "    .dataframe thead th {\n",
       "        text-align: right;\n",
       "    }\n",
       "</style>\n",
       "<table border=\"1\" class=\"dataframe\">\n",
       "  <thead>\n",
       "    <tr style=\"text-align: right;\">\n",
       "      <th></th>\n",
       "      <th>buying</th>\n",
       "      <th>maint</th>\n",
       "      <th>doors</th>\n",
       "      <th>persons</th>\n",
       "      <th>lug_boot</th>\n",
       "      <th>safety</th>\n",
       "      <th>class</th>\n",
       "    </tr>\n",
       "  </thead>\n",
       "  <tbody>\n",
       "    <tr>\n",
       "      <th>0</th>\n",
       "      <td>vhigh</td>\n",
       "      <td>vhigh</td>\n",
       "      <td>2</td>\n",
       "      <td>2</td>\n",
       "      <td>small</td>\n",
       "      <td>low</td>\n",
       "      <td>unacc</td>\n",
       "    </tr>\n",
       "    <tr>\n",
       "      <th>1</th>\n",
       "      <td>vhigh</td>\n",
       "      <td>vhigh</td>\n",
       "      <td>2</td>\n",
       "      <td>2</td>\n",
       "      <td>small</td>\n",
       "      <td>med</td>\n",
       "      <td>unacc</td>\n",
       "    </tr>\n",
       "    <tr>\n",
       "      <th>2</th>\n",
       "      <td>vhigh</td>\n",
       "      <td>vhigh</td>\n",
       "      <td>2</td>\n",
       "      <td>2</td>\n",
       "      <td>small</td>\n",
       "      <td>high</td>\n",
       "      <td>unacc</td>\n",
       "    </tr>\n",
       "    <tr>\n",
       "      <th>3</th>\n",
       "      <td>vhigh</td>\n",
       "      <td>vhigh</td>\n",
       "      <td>2</td>\n",
       "      <td>2</td>\n",
       "      <td>med</td>\n",
       "      <td>low</td>\n",
       "      <td>unacc</td>\n",
       "    </tr>\n",
       "    <tr>\n",
       "      <th>4</th>\n",
       "      <td>vhigh</td>\n",
       "      <td>vhigh</td>\n",
       "      <td>2</td>\n",
       "      <td>2</td>\n",
       "      <td>med</td>\n",
       "      <td>med</td>\n",
       "      <td>unacc</td>\n",
       "    </tr>\n",
       "    <tr>\n",
       "      <th>...</th>\n",
       "      <td>...</td>\n",
       "      <td>...</td>\n",
       "      <td>...</td>\n",
       "      <td>...</td>\n",
       "      <td>...</td>\n",
       "      <td>...</td>\n",
       "      <td>...</td>\n",
       "    </tr>\n",
       "    <tr>\n",
       "      <th>1723</th>\n",
       "      <td>low</td>\n",
       "      <td>low</td>\n",
       "      <td>5more</td>\n",
       "      <td>more</td>\n",
       "      <td>med</td>\n",
       "      <td>med</td>\n",
       "      <td>good</td>\n",
       "    </tr>\n",
       "    <tr>\n",
       "      <th>1724</th>\n",
       "      <td>low</td>\n",
       "      <td>low</td>\n",
       "      <td>5more</td>\n",
       "      <td>more</td>\n",
       "      <td>med</td>\n",
       "      <td>high</td>\n",
       "      <td>vgood</td>\n",
       "    </tr>\n",
       "    <tr>\n",
       "      <th>1725</th>\n",
       "      <td>low</td>\n",
       "      <td>low</td>\n",
       "      <td>5more</td>\n",
       "      <td>more</td>\n",
       "      <td>big</td>\n",
       "      <td>low</td>\n",
       "      <td>unacc</td>\n",
       "    </tr>\n",
       "    <tr>\n",
       "      <th>1726</th>\n",
       "      <td>low</td>\n",
       "      <td>low</td>\n",
       "      <td>5more</td>\n",
       "      <td>more</td>\n",
       "      <td>big</td>\n",
       "      <td>med</td>\n",
       "      <td>good</td>\n",
       "    </tr>\n",
       "    <tr>\n",
       "      <th>1727</th>\n",
       "      <td>low</td>\n",
       "      <td>low</td>\n",
       "      <td>5more</td>\n",
       "      <td>more</td>\n",
       "      <td>big</td>\n",
       "      <td>high</td>\n",
       "      <td>vgood</td>\n",
       "    </tr>\n",
       "  </tbody>\n",
       "</table>\n",
       "<p>1728 rows × 7 columns</p>\n",
       "</div>"
      ],
      "text/plain": [
       "     buying  maint  doors persons lug_boot safety  class\n",
       "0     vhigh  vhigh      2       2    small    low  unacc\n",
       "1     vhigh  vhigh      2       2    small    med  unacc\n",
       "2     vhigh  vhigh      2       2    small   high  unacc\n",
       "3     vhigh  vhigh      2       2      med    low  unacc\n",
       "4     vhigh  vhigh      2       2      med    med  unacc\n",
       "...     ...    ...    ...     ...      ...    ...    ...\n",
       "1723    low    low  5more    more      med    med   good\n",
       "1724    low    low  5more    more      med   high  vgood\n",
       "1725    low    low  5more    more      big    low  unacc\n",
       "1726    low    low  5more    more      big    med   good\n",
       "1727    low    low  5more    more      big   high  vgood\n",
       "\n",
       "[1728 rows x 7 columns]"
      ]
     },
     "execution_count": 15,
     "metadata": {},
     "output_type": "execute_result"
    }
   ],
   "source": [
    "df"
   ]
  },
  {
   "cell_type": "markdown",
   "id": "fe15b607",
   "metadata": {},
   "source": [
    "#### What are the different data types of the dataframe?\n",
    "\n",
    "We see that all features are categorical."
   ]
  },
  {
   "cell_type": "code",
   "execution_count": 16,
   "id": "b84b27bf",
   "metadata": {},
   "outputs": [
    {
     "name": "stdout",
     "output_type": "stream",
     "text": [
      "Features types:\n",
      "  buying      object\n",
      "maint       object\n",
      "doors       object\n",
      "persons     object\n",
      "lug_boot    object\n",
      "safety      object\n",
      "class       object\n",
      "dtype: object\n"
     ]
    }
   ],
   "source": [
    "print('Features types:\\n ',df.dtypes) "
   ]
  },
  {
   "cell_type": "markdown",
   "id": "6b4fdd87",
   "metadata": {},
   "source": [
    "# Verifying and, if existent, Handling of Duplicates and Missing Values\n",
    "\n",
    "#### Is there duplicates?\n",
    "\n",
    "We can see that there no duplicated values."
   ]
  },
  {
   "cell_type": "code",
   "execution_count": 17,
   "id": "367074a1",
   "metadata": {},
   "outputs": [
    {
     "name": "stdout",
     "output_type": "stream",
     "text": [
      "There are 0 duplicated values\n"
     ]
    }
   ],
   "source": [
    "print('There are', df.duplicated().sum(), 'duplicated values' )\n",
    "df.drop_duplicates(keep='last',inplace=True)"
   ]
  },
  {
   "cell_type": "markdown",
   "id": "fe32dae6",
   "metadata": {},
   "source": [
    "#### Checking for missing values:"
   ]
  },
  {
   "cell_type": "code",
   "execution_count": 18,
   "id": "b48447da",
   "metadata": {},
   "outputs": [
    {
     "name": "stdout",
     "output_type": "stream",
     "text": [
      "Are there any missing value?\n",
      "          Total  # Missing  % Missing\n",
      "buying     1728          0        0.0\n",
      "class      1728          0        0.0\n",
      "doors      1728          0        0.0\n",
      "lug_boot   1728          0        0.0\n",
      "maint      1728          0        0.0\n",
      "persons    1728          0        0.0\n",
      "safety     1728          0        0.0\n"
     ]
    }
   ],
   "source": [
    "chck_miss(df)"
   ]
  },
  {
   "cell_type": "markdown",
   "id": "4b655d0e",
   "metadata": {},
   "source": [
    "We see that there are no missing values."
   ]
  },
  {
   "cell_type": "markdown",
   "id": "d38190a6",
   "metadata": {},
   "source": [
    "Setting categorical features as such:"
   ]
  },
  {
   "cell_type": "code",
   "execution_count": 19,
   "id": "8050215b",
   "metadata": {},
   "outputs": [],
   "source": [
    "for i in df.columns:\n",
    "    df[i] = df[i].astype('category')"
   ]
  },
  {
   "cell_type": "markdown",
   "id": "585154ad",
   "metadata": {},
   "source": [
    "#### Checking Summary of all features of the dataset:"
   ]
  },
  {
   "cell_type": "code",
   "execution_count": 20,
   "id": "8db92cd5",
   "metadata": {},
   "outputs": [
    {
     "data": {
      "text/html": [
       "<div>\n",
       "<style scoped>\n",
       "    .dataframe tbody tr th:only-of-type {\n",
       "        vertical-align: middle;\n",
       "    }\n",
       "\n",
       "    .dataframe tbody tr th {\n",
       "        vertical-align: top;\n",
       "    }\n",
       "\n",
       "    .dataframe thead th {\n",
       "        text-align: right;\n",
       "    }\n",
       "</style>\n",
       "<table border=\"1\" class=\"dataframe\">\n",
       "  <thead>\n",
       "    <tr style=\"text-align: right;\">\n",
       "      <th></th>\n",
       "      <th>count</th>\n",
       "      <th>unique</th>\n",
       "      <th>top</th>\n",
       "      <th>freq</th>\n",
       "    </tr>\n",
       "  </thead>\n",
       "  <tbody>\n",
       "    <tr>\n",
       "      <th>buying</th>\n",
       "      <td>1728</td>\n",
       "      <td>4</td>\n",
       "      <td>high</td>\n",
       "      <td>432</td>\n",
       "    </tr>\n",
       "    <tr>\n",
       "      <th>maint</th>\n",
       "      <td>1728</td>\n",
       "      <td>4</td>\n",
       "      <td>high</td>\n",
       "      <td>432</td>\n",
       "    </tr>\n",
       "    <tr>\n",
       "      <th>doors</th>\n",
       "      <td>1728</td>\n",
       "      <td>4</td>\n",
       "      <td>2</td>\n",
       "      <td>432</td>\n",
       "    </tr>\n",
       "    <tr>\n",
       "      <th>persons</th>\n",
       "      <td>1728</td>\n",
       "      <td>3</td>\n",
       "      <td>2</td>\n",
       "      <td>576</td>\n",
       "    </tr>\n",
       "    <tr>\n",
       "      <th>lug_boot</th>\n",
       "      <td>1728</td>\n",
       "      <td>3</td>\n",
       "      <td>big</td>\n",
       "      <td>576</td>\n",
       "    </tr>\n",
       "    <tr>\n",
       "      <th>safety</th>\n",
       "      <td>1728</td>\n",
       "      <td>3</td>\n",
       "      <td>high</td>\n",
       "      <td>576</td>\n",
       "    </tr>\n",
       "    <tr>\n",
       "      <th>class</th>\n",
       "      <td>1728</td>\n",
       "      <td>4</td>\n",
       "      <td>unacc</td>\n",
       "      <td>1210</td>\n",
       "    </tr>\n",
       "  </tbody>\n",
       "</table>\n",
       "</div>"
      ],
      "text/plain": [
       "         count unique    top  freq\n",
       "buying    1728      4   high   432\n",
       "maint     1728      4   high   432\n",
       "doors     1728      4      2   432\n",
       "persons   1728      3      2   576\n",
       "lug_boot  1728      3    big   576\n",
       "safety    1728      3   high   576\n",
       "class     1728      4  unacc  1210"
      ]
     },
     "execution_count": 20,
     "metadata": {},
     "output_type": "execute_result"
    }
   ],
   "source": [
    "df.describe(include='all').T"
   ]
  },
  {
   "cell_type": "markdown",
   "id": "b7b4233c",
   "metadata": {},
   "source": [
    "### Univariate Analysis\n",
    "\n",
    "#### Looking at categorical features:"
   ]
  },
  {
   "cell_type": "code",
   "execution_count": 21,
   "id": "d71f91c8",
   "metadata": {},
   "outputs": [
    {
     "name": "stdout",
     "output_type": "stream",
     "text": [
      "############### Univariate analysis - Categorical ###############\n",
      "\n",
      "This is univariate analysis for ' buying ' \n",
      "        Count  Percentage\n",
      "high     432        25.0\n",
      "low      432        25.0\n",
      "med      432        25.0\n",
      "vhigh    432        25.0\n"
     ]
    },
    {
     "data": {
      "image/png": "[encoded data removed]",
      "text/plain": [
       "<Figure size 360x360 with 1 Axes>"
      ]
     },
     "metadata": {
      "needs_background": "light"
     },
     "output_type": "display_data"
    },
    {
     "name": "stdout",
     "output_type": "stream",
     "text": [
      "\n",
      "\n",
      "\n"
     ]
    }
   ],
   "source": [
    "uni_categorical(df[['buying']],'S')"
   ]
  },
  {
   "cell_type": "markdown",
   "id": "1dd8fbcf",
   "metadata": {},
   "source": [
    "We see that buyng is equally distributed between the observations."
   ]
  },
  {
   "cell_type": "code",
   "execution_count": 22,
   "id": "ccc1d647",
   "metadata": {},
   "outputs": [
    {
     "name": "stdout",
     "output_type": "stream",
     "text": [
      "############### Univariate analysis - Categorical ###############\n",
      "\n",
      "This is univariate analysis for ' maint ' \n",
      "        Count  Percentage\n",
      "high     432        25.0\n",
      "low      432        25.0\n",
      "med      432        25.0\n",
      "vhigh    432        25.0\n"
     ]
    },
    {
     "data": {
      "image/png": "[encoded data removed]",
      "text/plain": [
       "<Figure size 360x360 with 1 Axes>"
      ]
     },
     "metadata": {
      "needs_background": "light"
     },
     "output_type": "display_data"
    },
    {
     "name": "stdout",
     "output_type": "stream",
     "text": [
      "\n",
      "\n",
      "\n"
     ]
    }
   ],
   "source": [
    "uni_categorical(df[['maint']],'S')"
   ]
  },
  {
   "cell_type": "markdown",
   "id": "335b793d",
   "metadata": {},
   "source": [
    "It's the same with maintenance feature: they are equally distributed."
   ]
  },
  {
   "cell_type": "code",
   "execution_count": 23,
   "id": "82e981c1",
   "metadata": {},
   "outputs": [
    {
     "name": "stdout",
     "output_type": "stream",
     "text": [
      "############### Univariate analysis - Categorical ###############\n",
      "\n",
      "This is univariate analysis for ' doors ' \n",
      "        Count  Percentage\n",
      "2        432        25.0\n",
      "3        432        25.0\n",
      "4        432        25.0\n",
      "5more    432        25.0\n"
     ]
    },
    {
     "data": {
      "image/png": "[encoded data removed]",
      "text/plain": [
       "<Figure size 360x360 with 1 Axes>"
      ]
     },
     "metadata": {
      "needs_background": "light"
     },
     "output_type": "display_data"
    },
    {
     "name": "stdout",
     "output_type": "stream",
     "text": [
      "\n",
      "\n",
      "\n"
     ]
    }
   ],
   "source": [
    "uni_categorical(df[['doors']],'S')"
   ]
  },
  {
   "cell_type": "markdown",
   "id": "efa1f11d",
   "metadata": {},
   "source": [
    "It's the same with doors feature: they are equally distributed."
   ]
  },
  {
   "cell_type": "code",
   "execution_count": 24,
   "id": "5d27d4f9",
   "metadata": {},
   "outputs": [
    {
     "name": "stdout",
     "output_type": "stream",
     "text": [
      "############### Univariate analysis - Categorical ###############\n",
      "\n",
      "This is univariate analysis for ' persons ' \n",
      "       Count  Percentage\n",
      "2       576       33.33\n",
      "4       576       33.33\n",
      "more    576       33.33\n"
     ]
    },
    {
     "data": {
      "image/png": "[encoded data removed]",
      "text/plain": [
       "<Figure size 360x360 with 1 Axes>"
      ]
     },
     "metadata": {
      "needs_background": "light"
     },
     "output_type": "display_data"
    },
    {
     "name": "stdout",
     "output_type": "stream",
     "text": [
      "\n",
      "\n",
      "\n"
     ]
    }
   ],
   "source": [
    "uni_categorical(df[['persons']],'S')"
   ]
  },
  {
   "cell_type": "markdown",
   "id": "7158b755",
   "metadata": {},
   "source": [
    "It's the same with persons feature: they are equally distributed."
   ]
  },
  {
   "cell_type": "code",
   "execution_count": 25,
   "id": "8eac313d",
   "metadata": {},
   "outputs": [
    {
     "name": "stdout",
     "output_type": "stream",
     "text": [
      "############### Univariate analysis - Categorical ###############\n",
      "\n",
      "This is univariate analysis for ' lug_boot ' \n",
      "        Count  Percentage\n",
      "big      576       33.33\n",
      "med      576       33.33\n",
      "small    576       33.33\n"
     ]
    },
    {
     "data": {
      "image/png": "[encoded data removed]",
      "text/plain": [
       "<Figure size 360x360 with 1 Axes>"
      ]
     },
     "metadata": {
      "needs_background": "light"
     },
     "output_type": "display_data"
    },
    {
     "name": "stdout",
     "output_type": "stream",
     "text": [
      "\n",
      "\n",
      "\n"
     ]
    }
   ],
   "source": [
    "uni_categorical(df[['lug_boot']],'S')"
   ]
  },
  {
   "cell_type": "markdown",
   "id": "43bc3c41",
   "metadata": {},
   "source": [
    "It's the same with luggage boot feature: they are equally distributed."
   ]
  },
  {
   "cell_type": "code",
   "execution_count": 26,
   "id": "f3be40dc",
   "metadata": {},
   "outputs": [
    {
     "name": "stdout",
     "output_type": "stream",
     "text": [
      "############### Univariate analysis - Categorical ###############\n",
      "\n",
      "This is univariate analysis for ' safety ' \n",
      "       Count  Percentage\n",
      "high    576       33.33\n",
      "low     576       33.33\n",
      "med     576       33.33\n"
     ]
    },
    {
     "data": {
      "image/png": "[encoded data removed]",
      "text/plain": [
       "<Figure size 360x360 with 1 Axes>"
      ]
     },
     "metadata": {
      "needs_background": "light"
     },
     "output_type": "display_data"
    },
    {
     "name": "stdout",
     "output_type": "stream",
     "text": [
      "\n",
      "\n",
      "\n"
     ]
    }
   ],
   "source": [
    "uni_categorical(df[['safety']],'S')"
   ]
  },
  {
   "cell_type": "markdown",
   "id": "d9996648",
   "metadata": {},
   "source": [
    "It's the same with safety feature: they are equally distributed."
   ]
  },
  {
   "cell_type": "code",
   "execution_count": 27,
   "id": "558caf88",
   "metadata": {},
   "outputs": [
    {
     "name": "stdout",
     "output_type": "stream",
     "text": [
      "############### Univariate analysis - Categorical ###############\n",
      "\n",
      "This is univariate analysis for ' class ' \n",
      "        Count  Percentage\n",
      "unacc   1210       70.02\n",
      "acc      384       22.22\n",
      "good      69        3.99\n",
      "vgood     65        3.76\n"
     ]
    },
    {
     "data": {
      "image/png": "[encoded data removed]",
      "text/plain": [
       "<Figure size 360x360 with 1 Axes>"
      ]
     },
     "metadata": {
      "needs_background": "light"
     },
     "output_type": "display_data"
    },
    {
     "name": "stdout",
     "output_type": "stream",
     "text": [
      "\n",
      "\n",
      "\n"
     ]
    }
   ],
   "source": [
    "uni_categorical(df[['class']],'S')"
   ]
  },
  {
   "cell_type": "markdown",
   "id": "4d0bc834",
   "metadata": {},
   "source": [
    "We can see that our target in unbalanced. This will not be addressed within the scope of this study."
   ]
  },
  {
   "cell_type": "code",
   "execution_count": 28,
   "id": "99cf87e2",
   "metadata": {},
   "outputs": [],
   "source": [
    "### Bivariate Analysis\n",
    "\n",
    "#### Looking at categorical features:"
   ]
  },
  {
   "cell_type": "code",
   "execution_count": 29,
   "id": "90ec61d1",
   "metadata": {},
   "outputs": [
    {
     "name": "stdout",
     "output_type": "stream",
     "text": [
      "This is contingency table for:\n",
      "\n",
      " class   acc  good  unacc  vgood\n",
      "buying                         \n",
      "high    108     0    324      0\n",
      "low      89    46    258     39\n",
      "med     115    23    268     26\n",
      "vhigh    72     0    360      0 \n",
      "\n"
     ]
    },
    {
     "data": {
      "image/png": "[encoded data removed]",
      "text/plain": [
       "<Figure size 720x360 with 1 Axes>"
      ]
     },
     "metadata": {
      "needs_background": "light"
     },
     "output_type": "display_data"
    },
    {
     "name": "stdout",
     "output_type": "stream",
     "text": [
      "Chi-sqare's results:\n",
      "\n",
      "DOF:  9 \n",
      "p-value=  5.9280625992133936e-36 \n",
      "\n",
      " Reject Null Hypothesis. There's some correlation between variables.\n"
     ]
    }
   ],
   "source": [
    "bi_categorical_cat(df['buying'], df['class'])"
   ]
  },
  {
   "cell_type": "code",
   "execution_count": 30,
   "id": "4383e9f1",
   "metadata": {},
   "outputs": [
    {
     "name": "stdout",
     "output_type": "stream",
     "text": [
      "This is contingency table for:\n",
      "\n",
      " class  acc  good  unacc  vgood\n",
      "maint                         \n",
      "high   105     0    314     13\n",
      "low     92    46    268     26\n",
      "med    115    23    268     26\n",
      "vhigh   72     0    360      0 \n",
      "\n"
     ]
    },
    {
     "data": {
      "image/png": "[encoded data removed]",
      "text/plain": [
       "<Figure size 720x360 with 1 Axes>"
      ]
     },
     "metadata": {
      "needs_background": "light"
     },
     "output_type": "display_data"
    },
    {
     "name": "stdout",
     "output_type": "stream",
     "text": [
      "Chi-sqare's results:\n",
      "\n",
      "DOF:  9 \n",
      "p-value=  2.5476519845077733e-26 \n",
      "\n",
      " Reject Null Hypothesis. There's some correlation between variables.\n"
     ]
    }
   ],
   "source": [
    "bi_categorical_cat(df['maint'], df['class'])"
   ]
  },
  {
   "cell_type": "code",
   "execution_count": 31,
   "id": "3b1bce6c",
   "metadata": {},
   "outputs": [
    {
     "name": "stdout",
     "output_type": "stream",
     "text": [
      "This is contingency table for:\n",
      "\n",
      " class  acc  good  unacc  vgood\n",
      "doors                         \n",
      "2       81    15    326     10\n",
      "3       99    18    300     15\n",
      "4      102    18    292     20\n",
      "5more  102    18    292     20 \n",
      "\n"
     ]
    },
    {
     "data": {
      "image/png": "[encoded data removed]",
      "text/plain": [
       "<Figure size 720x360 with 1 Axes>"
      ]
     },
     "metadata": {
      "needs_background": "light"
     },
     "output_type": "display_data"
    },
    {
     "name": "stdout",
     "output_type": "stream",
     "text": [
      "Chi-sqare's results:\n",
      "\n",
      "DOF:  9 \n",
      "p-value=  0.32024215990030563 \n",
      "\n",
      " Fail to reject Null Hypothesis. There's no correlation between variables.\n"
     ]
    }
   ],
   "source": [
    "bi_categorical_cat(df['doors'], df['class'])"
   ]
  },
  {
   "cell_type": "code",
   "execution_count": 32,
   "id": "aea0aef0",
   "metadata": {},
   "outputs": [
    {
     "name": "stdout",
     "output_type": "stream",
     "text": [
      "This is contingency table for:\n",
      "\n",
      " class    acc  good  unacc  vgood\n",
      "persons                         \n",
      "2          0     0    576      0\n",
      "4        198    36    312     30\n",
      "more     186    33    322     35 \n",
      "\n"
     ]
    },
    {
     "data": {
      "image/png": "[encoded data removed]",
      "text/plain": [
       "<Figure size 720x360 with 1 Axes>"
      ]
     },
     "metadata": {
      "needs_background": "light"
     },
     "output_type": "display_data"
    },
    {
     "name": "stdout",
     "output_type": "stream",
     "text": [
      "Chi-sqare's results:\n",
      "\n",
      "DOF:  6 \n",
      "p-value=  4.039968047270742e-77 \n",
      "\n",
      " Reject Null Hypothesis. There's some correlation between variables.\n"
     ]
    }
   ],
   "source": [
    "bi_categorical_cat(df['persons'], df['class'])"
   ]
  },
  {
   "cell_type": "code",
   "execution_count": 33,
   "id": "1a212051",
   "metadata": {},
   "outputs": [
    {
     "name": "stdout",
     "output_type": "stream",
     "text": [
      "This is contingency table for:\n",
      "\n",
      " class     acc  good  unacc  vgood\n",
      "lug_boot                         \n",
      "big       144    24    368     40\n",
      "med       135    24    392     25\n",
      "small     105    21    450      0 \n",
      "\n"
     ]
    },
    {
     "data": {
      "image/png": "[encoded data removed]",
      "text/plain": [
       "<Figure size 720x360 with 1 Axes>"
      ]
     },
     "metadata": {
      "needs_background": "light"
     },
     "output_type": "display_data"
    },
    {
     "name": "stdout",
     "output_type": "stream",
     "text": [
      "Chi-sqare's results:\n",
      "\n",
      "DOF:  6 \n",
      "p-value=  1.0294402753134833e-09 \n",
      "\n",
      " Reject Null Hypothesis. There's some correlation between variables.\n"
     ]
    }
   ],
   "source": [
    "bi_categorical_cat(df['lug_boot'], df['class'])"
   ]
  },
  {
   "cell_type": "code",
   "execution_count": 34,
   "id": "d27a3596",
   "metadata": {},
   "outputs": [
    {
     "name": "stdout",
     "output_type": "stream",
     "text": [
      "This is contingency table for:\n",
      "\n",
      " class   acc  good  unacc  vgood\n",
      "safety                         \n",
      "high    204    30    277     65\n",
      "low       0     0    576      0\n",
      "med     180    39    357      0 \n",
      "\n"
     ]
    },
    {
     "data": {
      "image/png": "[encoded data removed]",
      "text/plain": [
       "<Figure size 720x360 with 1 Axes>"
      ]
     },
     "metadata": {
      "needs_background": "light"
     },
     "output_type": "display_data"
    },
    {
     "name": "stdout",
     "output_type": "stream",
     "text": [
      "Chi-sqare's results:\n",
      "\n",
      "DOF:  6 \n",
      "p-value=  2.389155399044034e-100 \n",
      "\n",
      " Reject Null Hypothesis. There's some correlation between variables.\n"
     ]
    }
   ],
   "source": [
    "bi_categorical_cat(df['safety'], df['class'])"
   ]
  },
  {
   "cell_type": "code",
   "execution_count": 35,
   "id": "f4ee66f1",
   "metadata": {},
   "outputs": [
    {
     "name": "stdout",
     "output_type": "stream",
     "text": [
      "This is contingency table for:\n",
      "\n",
      " class    acc  good  unacc  vgood\n",
      "persons                         \n",
      "2          0     0    576      0\n",
      "4        198    36    312     30\n",
      "more     186    33    322     35 \n",
      "\n"
     ]
    },
    {
     "data": {
      "image/png": "[encoded data removed]",
      "text/plain": [
       "<Figure size 720x360 with 1 Axes>"
      ]
     },
     "metadata": {
      "needs_background": "light"
     },
     "output_type": "display_data"
    },
    {
     "name": "stdout",
     "output_type": "stream",
     "text": [
      "Chi-sqare's results:\n",
      "\n",
      "DOF:  6 \n",
      "p-value=  4.039968047270742e-77 \n",
      "\n",
      " Reject Null Hypothesis. There's some correlation between variables.\n"
     ]
    }
   ],
   "source": [
    "bi_categorical_cat(df['persons'], df['class'])"
   ]
  },
  {
   "cell_type": "markdown",
   "id": "13012a1f",
   "metadata": {},
   "source": [
    "#### Extracting independent and dependent vars:"
   ]
  },
  {
   "cell_type": "code",
   "execution_count": 36,
   "id": "1bae5b58",
   "metadata": {},
   "outputs": [],
   "source": [
    "target='class'\n",
    "\n",
    "# Creating copy of df1:\n",
    "df_dummy = df.copy()\n",
    "\n",
    "#Dummy variable encoding for all other categorical features: \n",
    "cols = ['buying', 'maint', 'persons', 'doors', 'lug_boot', 'safety'] \n",
    "df_dummy = pd.get_dummies(df_dummy,columns=cols,drop_first=True).reset_index(drop = True)\n",
    "\n",
    "X = df_dummy.drop([target],axis=1)\n",
    "y = df_dummy[target]"
   ]
  },
  {
   "cell_type": "markdown",
   "id": "3c7650c0",
   "metadata": {},
   "source": [
    "#### Spliting to train and test datasets:"
   ]
  },
  {
   "cell_type": "code",
   "execution_count": 37,
   "id": "9097e3f6",
   "metadata": {},
   "outputs": [],
   "source": [
    "X_train,X_test,y_train,y_test = train_test_split(X,y,random_state=0,test_size=0.3)"
   ]
  },
  {
   "cell_type": "markdown",
   "id": "6a097f71",
   "metadata": {},
   "source": [
    "#### Scaling the features using training set:"
   ]
  },
  {
   "cell_type": "code",
   "execution_count": 38,
   "id": "34dcc8f9",
   "metadata": {},
   "outputs": [],
   "source": [
    "sc = StandardScaler()\n",
    "X_train_scaled = pd.DataFrame(sc.fit_transform(X_train),columns=X.columns)\n",
    "X_test_scaled = pd.DataFrame(sc.transform(X_test),columns=X.columns)\n",
    "X_full = pd.DataFrame(sc.transform(X),columns=X.columns)"
   ]
  },
  {
   "cell_type": "markdown",
   "id": "08bfef15",
   "metadata": {},
   "source": [
    "### Training the model(tol=0.5, without weights):"
   ]
  },
  {
   "cell_type": "code",
   "execution_count": 39,
   "id": "5ff8c559",
   "metadata": {},
   "outputs": [
    {
     "data": {
      "text/plain": [
       "LogisticRegression(solver='saga', tol=0.5)"
      ]
     },
     "execution_count": 39,
     "metadata": {},
     "output_type": "execute_result"
    }
   ],
   "source": [
    "#We use saga solver for large dataset \n",
    "#and class_weight to deal with the imbalance\n",
    "model = LogisticRegression(tol=0.5,solver='saga') #, class_weight={'unacc':5, 'acc':3,'vgood':1, 'good':1}\n",
    "model.fit(X_train_scaled,y_train)#max_iter=500,"
   ]
  },
  {
   "cell_type": "markdown",
   "id": "d5496eb2",
   "metadata": {},
   "source": [
    "#### Validating the model:"
   ]
  },
  {
   "cell_type": "markdown",
   "id": "eea34e50",
   "metadata": {},
   "source": [
    "##### Training accuracy"
   ]
  },
  {
   "cell_type": "code",
   "execution_count": 40,
   "id": "c649dea7",
   "metadata": {},
   "outputs": [
    {
     "data": {
      "text/plain": [
       "0.9164598842018197"
      ]
     },
     "execution_count": 40,
     "metadata": {},
     "output_type": "execute_result"
    }
   ],
   "source": [
    "y_pred = model.predict(X_train_scaled)\n",
    "accuracy_score(y_train,y_pred)"
   ]
  },
  {
   "cell_type": "markdown",
   "id": "ac39c9e6",
   "metadata": {},
   "source": [
    "##### Testing Accuracy"
   ]
  },
  {
   "cell_type": "code",
   "execution_count": 41,
   "id": "06ae6453",
   "metadata": {},
   "outputs": [
    {
     "data": {
      "text/plain": [
       "0.8631984585741811"
      ]
     },
     "execution_count": 41,
     "metadata": {},
     "output_type": "execute_result"
    }
   ],
   "source": [
    "y_pred = model.predict(X_test_scaled)\n",
    "accuracy_score(y_test,y_pred)"
   ]
  },
  {
   "cell_type": "markdown",
   "id": "e3e76d1e",
   "metadata": {},
   "source": [
    "The accuracy is good, even if not great, with both the trainning and testing dataset."
   ]
  },
  {
   "cell_type": "markdown",
   "id": "7113aaea",
   "metadata": {},
   "source": [
    "##### Confusion Matrix:"
   ]
  },
  {
   "cell_type": "code",
   "execution_count": 42,
   "id": "dbb85951",
   "metadata": {},
   "outputs": [
    {
     "name": "stdout",
     "output_type": "stream",
     "text": [
      "[[ 326   10   43    5]\n",
      " [  37   25    0    7]\n",
      " [  60    2 1147    1]\n",
      " [   6    1    0   58]]\n"
     ]
    }
   ],
   "source": [
    "y_pred = model.predict(X_full)\n",
    "print(confusion_matrix(y,y_pred))\n",
    "# Acc Good Unacc VGood "
   ]
  },
  {
   "cell_type": "markdown",
   "id": "2142d42c",
   "metadata": {},
   "source": [
    "We see above that most of the Unacceptable observations were rightly classified."
   ]
  },
  {
   "cell_type": "markdown",
   "id": "00456d45",
   "metadata": {},
   "source": [
    "#####  Classification Report:"
   ]
  },
  {
   "cell_type": "code",
   "execution_count": 43,
   "id": "132275ba",
   "metadata": {},
   "outputs": [
    {
     "name": "stdout",
     "output_type": "stream",
     "text": [
      "              precision    recall  f1-score   support\n",
      "\n",
      "         acc       0.76      0.85      0.80       384\n",
      "        good       0.66      0.36      0.47        69\n",
      "       unacc       0.96      0.95      0.96      1210\n",
      "       vgood       0.82      0.89      0.85        65\n",
      "\n",
      "    accuracy                           0.90      1728\n",
      "   macro avg       0.80      0.76      0.77      1728\n",
      "weighted avg       0.90      0.90      0.90      1728\n",
      "\n"
     ]
    }
   ],
   "source": [
    "print(classification_report(y,y_pred))"
   ]
  },
  {
   "cell_type": "markdown",
   "id": "61af0e99",
   "metadata": {},
   "source": [
    "We see that the overall accuracy is good. As well the precision and recall of the most business-risk category: unacceptable."
   ]
  },
  {
   "cell_type": "markdown",
   "id": "2f798b39",
   "metadata": {},
   "source": [
    "### k-fold cross validation using logistic regression model(without weights):"
   ]
  },
  {
   "cell_type": "code",
   "execution_count": 44,
   "id": "34a3c381",
   "metadata": {},
   "outputs": [
    {
     "name": "stdout",
     "output_type": "stream",
     "text": [
      "Cross validation score(default parameter - \"cv=5\") is: 0.6810186814107397\n",
      "Minimum validation score is: 0.5072463768115942\n",
      "Maximum validation score is: 0.8179190751445087\n"
     ]
    }
   ],
   "source": [
    "scores = cross_val_score(model,X_full,y)\n",
    "print('Cross validation score(default parameter - \"cv=5\") is:',scores.mean())\n",
    "\n",
    "scores = pd.Series(scores)\n",
    "print('Minimum validation score is:',scores.min())\n",
    "print('Maximum validation score is:', scores.max())\n"
   ]
  },
  {
   "cell_type": "markdown",
   "id": "0458acd3",
   "metadata": {},
   "source": [
    "### Training the model(tol=0.5, with weights for classes):\n",
    "\n",
    "The weights were defined roughly based on the inverse distribution of the classes."
   ]
  },
  {
   "cell_type": "code",
   "execution_count": 45,
   "id": "63a07811",
   "metadata": {},
   "outputs": [
    {
     "name": "stdout",
     "output_type": "stream",
     "text": [
      "############### Univariate analysis - Categorical ###############\n",
      "\n",
      "This is univariate analysis for ' class ' \n",
      "        Count  Percentage\n",
      "unacc   1210       70.02\n",
      "acc      384       22.22\n",
      "good      69        3.99\n",
      "vgood     65        3.76\n"
     ]
    },
    {
     "data": {
      "image/png": "[encoded data removed]",
      "text/plain": [
       "<Figure size 360x360 with 1 Axes>"
      ]
     },
     "metadata": {
      "needs_background": "light"
     },
     "output_type": "display_data"
    },
    {
     "name": "stdout",
     "output_type": "stream",
     "text": [
      "\n",
      "\n",
      "\n"
     ]
    }
   ],
   "source": [
    "uni_categorical(df[['class']],'S')"
   ]
  },
  {
   "cell_type": "code",
   "execution_count": 46,
   "id": "2d442544",
   "metadata": {},
   "outputs": [
    {
     "data": {
      "text/plain": [
       "LogisticRegression(class_weight={'acc': 1.8, 'good': 3.8, 'unacc': 0.6,\n",
       "                                 'vgood': 3.8},\n",
       "                   solver='saga', tol=0.5)"
      ]
     },
     "execution_count": 46,
     "metadata": {},
     "output_type": "execute_result"
    }
   ],
   "source": [
    "#We use saga solver for large dataset \n",
    "#and class_weight to deal with the imbalance\n",
    "model1 = LogisticRegression(tol=0.5,solver='saga', class_weight={'unacc':.6, 'acc':1.8,'vgood':3.8, 'good':3.8}) \n",
    "model1.fit(X_train_scaled,y_train)"
   ]
  },
  {
   "cell_type": "markdown",
   "id": "ea972203",
   "metadata": {},
   "source": [
    "#### Validating the model:"
   ]
  },
  {
   "cell_type": "code",
   "execution_count": 47,
   "id": "1141dbaf",
   "metadata": {},
   "outputs": [],
   "source": [
    "##### Training accuracy"
   ]
  },
  {
   "cell_type": "code",
   "execution_count": 48,
   "id": "b3b1ae0f",
   "metadata": {},
   "outputs": [
    {
     "data": {
      "text/plain": [
       "0.8453267162944582"
      ]
     },
     "execution_count": 48,
     "metadata": {},
     "output_type": "execute_result"
    }
   ],
   "source": [
    "y_pred = model1.predict(X_train_scaled)\n",
    "accuracy_score(y_train,y_pred)"
   ]
  },
  {
   "cell_type": "code",
   "execution_count": 49,
   "id": "883cd4fa",
   "metadata": {},
   "outputs": [],
   "source": [
    "##### Testing Accuracy"
   ]
  },
  {
   "cell_type": "code",
   "execution_count": 50,
   "id": "3a4322fd",
   "metadata": {},
   "outputs": [
    {
     "data": {
      "text/plain": [
       "0.8053949903660886"
      ]
     },
     "execution_count": 50,
     "metadata": {},
     "output_type": "execute_result"
    }
   ],
   "source": [
    "y_pred = model1.predict(X_test_scaled)\n",
    "accuracy_score(y_test,y_pred)"
   ]
  },
  {
   "cell_type": "markdown",
   "id": "ed61c4bc",
   "metadata": {},
   "source": [
    "The accuracy is good, even if not great, with both the trainning and testing dataset. But,there's loss compared to the undefined weight model."
   ]
  },
  {
   "cell_type": "markdown",
   "id": "a512b9a4",
   "metadata": {},
   "source": [
    "##### Confusion Matrix:"
   ]
  },
  {
   "cell_type": "code",
   "execution_count": 51,
   "id": "184a6585",
   "metadata": {},
   "outputs": [
    {
     "name": "stdout",
     "output_type": "stream",
     "text": [
      "[[ 310   23   27   24]\n",
      " [  20   41    0    8]\n",
      " [ 150    9 1029   22]\n",
      " [   1    4    0   60]]\n"
     ]
    }
   ],
   "source": [
    "y_pred = model1.predict(X_full)\n",
    "print(confusion_matrix(y,y_pred))\n",
    "# Acc Good Unacc VGood "
   ]
  },
  {
   "cell_type": "markdown",
   "id": "7174a31b",
   "metadata": {},
   "source": [
    "#####  Classification Report:"
   ]
  },
  {
   "cell_type": "code",
   "execution_count": 52,
   "id": "11160ff8",
   "metadata": {},
   "outputs": [
    {
     "name": "stdout",
     "output_type": "stream",
     "text": [
      "              precision    recall  f1-score   support\n",
      "\n",
      "         acc       0.64      0.81      0.72       384\n",
      "        good       0.53      0.59      0.56        69\n",
      "       unacc       0.97      0.85      0.91      1210\n",
      "       vgood       0.53      0.92      0.67        65\n",
      "\n",
      "    accuracy                           0.83      1728\n",
      "   macro avg       0.67      0.79      0.71      1728\n",
      "weighted avg       0.87      0.83      0.84      1728\n",
      "\n"
     ]
    }
   ],
   "source": [
    "print(classification_report(y,y_pred))"
   ]
  },
  {
   "cell_type": "markdown",
   "id": "e323b24c",
   "metadata": {},
   "source": [
    "### k-fold cross validation using logistic regression model1(with weights):"
   ]
  },
  {
   "cell_type": "code",
   "execution_count": 53,
   "id": "12f74304",
   "metadata": {},
   "outputs": [
    {
     "name": "stdout",
     "output_type": "stream",
     "text": [
      "Cross validation score(default parameter - \"cv=5\") is: 0.6392778755131105\n",
      "Minimum validation score is: 0.47246376811594204\n",
      "Maximum validation score is: 0.7861271676300579\n"
     ]
    }
   ],
   "source": [
    "scores = cross_val_score(model1,X_full,y)\n",
    "print('Cross validation score(default parameter - \"cv=5\") is:',scores.mean())\n",
    "\n",
    "scores = pd.Series(scores)\n",
    "print('Minimum validation score is:',scores.min())\n",
    "print('Maximum validation score is:', scores.max())"
   ]
  },
  {
   "cell_type": "markdown",
   "id": "e3f96a45",
   "metadata": {},
   "source": [
    "There's a loss in overall measures with the weighted model. At this moment, the model without weights will be the choice."
   ]
  },
  {
   "attachments": {},
   "cell_type": "markdown",
   "id": "9f33096c",
   "metadata": {},
   "source": [
    "# Conclusions/Inferences\n",
    "\n",
    "Despite the data being unbalanced, there is good precision and recall to the most business-risk category: **Unacceptable**.\n",
    "\n",
    "As k-fold cross validation value is low a different model may be better to predict the output feature."
   ]
  }
 ],
 "metadata": {
  "kernelspec": {
   "display_name": "Python 3 (ipykernel)",
   "language": "python",
   "name": "python3"
  },
  "language_info": {
   "codemirror_mode": {
    "name": "ipython",
    "version": 3
   },
   "file_extension": ".py",
   "mimetype": "text/x-python",
   "name": "python",
   "nbconvert_exporter": "python",
   "pygments_lexer": "ipython3",
   "version": "3.7.11"
  }
 },
 "nbformat": 4,
 "nbformat_minor": 5
}
